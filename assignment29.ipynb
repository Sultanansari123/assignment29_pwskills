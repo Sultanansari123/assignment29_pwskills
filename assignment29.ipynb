{
 "cells": [
  {
   "cell_type": "markdown",
   "id": "9cdff97a-63f0-4aed-8cdf-07b11ad4ad58",
   "metadata": {},
   "source": [
    "# Ans1-"
   ]
  },
  {
   "cell_type": "markdown",
   "id": "f8427ecd-6036-4d34-8160-15488ee1a8f0",
   "metadata": {},
   "source": [
    "Lasso Regression is a linear regression technique that adds a penalty term to the cost function, promoting sparsity in the model by encouraging some feature coefficients to be exactly zero; it differs from other regression techniques by performing feature selection."
   ]
  },
  {
   "cell_type": "markdown",
   "id": "353bbd80-eb92-496d-bc9b-5eac2877aac6",
   "metadata": {},
   "source": [
    "# Ans2-"
   ]
  },
  {
   "cell_type": "markdown",
   "id": "c5b254c8-4ec3-46f3-8843-21249c4c679b",
   "metadata": {},
   "source": [
    "The main advantage of using Lasso Regression in feature selection is its ability to automatically shrink some coefficients to zero, effectively selecting a subset of relevant features and providing a simpler, more interpretable model."
   ]
  },
  {
   "cell_type": "markdown",
   "id": "d9bf0cb2-33a4-44aa-9918-0e40aff0a115",
   "metadata": {},
   "source": [
    "# Ans3-"
   ]
  },
  {
   "cell_type": "markdown",
   "id": "26430c33-4887-411e-a0a9-9533ae8f6ef7",
   "metadata": {},
   "source": [
    "In Lasso Regression, non-zero coefficients indicate the selected features and their impact on the target variable, while zero coefficients imply excluded features."
   ]
  },
  {
   "cell_type": "markdown",
   "id": "4282a7a7-8cf1-457f-a5ab-c455c8403e4f",
   "metadata": {},
   "source": [
    "# Ans4-"
   ]
  },
  {
   "cell_type": "markdown",
   "id": "c1df3e19-2193-4fef-b8b1-8fe34be310ad",
   "metadata": {},
   "source": [
    "The main tuning parameter in Lasso Regression is the regularization strength, often denoted by \"alpha\" or \"lambda\"; increasing alpha leads to stronger regularization, promoting sparser models by shrinking more coefficients to zero and preventing overfitting."
   ]
  },
  {
   "cell_type": "markdown",
   "id": "46de6920-3e53-4bb6-8888-68f9b42b9a10",
   "metadata": {},
   "source": [
    "# Ans5-"
   ]
  },
  {
   "cell_type": "markdown",
   "id": "5e6e86dd-51b0-4d8f-9881-44d8e97e1463",
   "metadata": {},
   "source": [
    "No, Lasso Regression is inherently a linear regression technique and is not designed for handling non-linear regression problems; for non-linear relationships, other techniques like polynomial regression or kernel methods are more suitable."
   ]
  },
  {
   "cell_type": "markdown",
   "id": "51c677c6-d1b0-4dfe-b0e8-cbacdc008aa7",
   "metadata": {},
   "source": [
    "# Ans6-"
   ]
  },
  {
   "cell_type": "markdown",
   "id": "f49c7683-f40a-4a8f-9103-2e539c90a5af",
   "metadata": {},
   "source": [
    "Ridge Regression adds a penalty term to the cost function based on the squared magnitude of coefficients, while Lasso Regression uses a penalty based on the absolute magnitude, promoting sparsity by shrinking some coefficients to zero.\n",
    "\n",
    "\n",
    "\n",
    "\n"
   ]
  },
  {
   "cell_type": "markdown",
   "id": "4d3c4a4c-ea2d-469b-af05-e5fea88712fe",
   "metadata": {},
   "source": [
    "# Ans7-"
   ]
  },
  {
   "cell_type": "markdown",
   "id": "37cc5bf0-09db-43ae-b35b-f79ce43a2edf",
   "metadata": {},
   "source": [
    "Yes, Lasso Regression can handle multicollinearity by automatically selecting a subset of relevant features and assigning zero coefficients to the less informative ones.\n",
    "\n",
    "\n",
    "\n",
    "\n",
    "\n"
   ]
  },
  {
   "cell_type": "markdown",
   "id": "0d83f46f-3631-46b3-a0bc-9dd310fc75de",
   "metadata": {},
   "source": [
    "# Ans8-"
   ]
  },
  {
   "cell_type": "markdown",
   "id": "a002caed-8016-4c9a-8ad6-72405d1459fc",
   "metadata": {},
   "source": [
    "The optimal value of the regularization parameter (lambda) in Lasso Regression is typically chosen through cross-validation, where different values of lambda are tested, and the one that results in the best model performance is selected."
   ]
  },
  {
   "cell_type": "code",
   "execution_count": null,
   "id": "6db7c7f7-46e1-4fc1-99aa-92194d0fc9ba",
   "metadata": {},
   "outputs": [],
   "source": []
  }
 ],
 "metadata": {
  "kernelspec": {
   "display_name": "Python 3 (ipykernel)",
   "language": "python",
   "name": "python3"
  },
  "language_info": {
   "codemirror_mode": {
    "name": "ipython",
    "version": 3
   },
   "file_extension": ".py",
   "mimetype": "text/x-python",
   "name": "python",
   "nbconvert_exporter": "python",
   "pygments_lexer": "ipython3",
   "version": "3.10.8"
  }
 },
 "nbformat": 4,
 "nbformat_minor": 5
}
